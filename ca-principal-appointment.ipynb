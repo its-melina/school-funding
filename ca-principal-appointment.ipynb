{
 "cells": [
  {
   "attachments": {},
   "cell_type": "markdown",
   "metadata": {},
   "source": [
    "## California State-Level Funding for Schools\n",
    "\n",
    "The Principal Appointment provides funding for LEAs, including \n",
    "1. Local Control Funding Formula (LCFF) -- this is the primary source of general purpose funding for an LEA \n",
    "2. Special Education Programs\n",
    "3. Expanded Learning Opportunities Program\n",
    "4. Arts and Music for Schools\n",
    "5. Equity Multiplier\n",
    "\n",
    "How much funding a school gets is determined by various factors, including the equity multiplier and the amount of children who actually attend the school everyday, a metric called ADA, or Average Daily Attendance.\n",
    "\n",
    "Key Terms:\n",
    "* LEA: Local Educational Agencies (Public Schools)\n",
    "    - An LEA is the public authority responsible for providing education \n",
    "* ADA: Average Daily Attendance\n"
   ]
  },
  {
   "cell_type": "code",
   "execution_count": null,
   "metadata": {},
   "outputs": [],
   "source": []
  }
 ],
 "metadata": {
  "language_info": {
   "name": "python"
  },
  "orig_nbformat": 4
 },
 "nbformat": 4,
 "nbformat_minor": 2
}
